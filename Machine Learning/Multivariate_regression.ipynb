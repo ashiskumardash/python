{
 "cells": [
  {
   "cell_type": "code",
   "execution_count": 146,
   "metadata": {},
   "outputs": [],
   "source": [
    "import numpy as np\n",
    "import pandas as pd\n",
    "from matplotlib import pyplot as plt\n",
    "from sklearn.linear_model import LinearRegression\n",
    "from sklearn.datasets import load_boston\n",
    "from sklearn.preprocessing import StandardScaler\n",
    "from sklearn.cross_validation import train_test_split"
   ]
  },
  {
   "cell_type": "code",
   "execution_count": 147,
   "metadata": {},
   "outputs": [
    {
     "data": {
      "text/plain": [
       "(421, 6)"
      ]
     },
     "execution_count": 147,
     "metadata": {},
     "output_type": "execute_result"
    }
   ],
   "source": [
    "load_boston()\n",
    "dataset=pd.DataFrame(load_boston().data,columns=load_boston().feature_names)\n",
    "dataset['TARGET']=load_boston().target\n",
    "dataset1=dataset[['ZN','NOX','RM','AGE','RAD','TAX','TARGET']]\n",
    "\n",
    "#print(dataset)\n",
    "X = dataset1.iloc[:,:-1].values\n",
    "Y = dataset1.iloc[:,6].values\n",
    "\n",
    "X_train, X_test, Y_train, Y_test = train_test_split(X,Y, test_size = 1/6, random_state = 0)\n",
    "X_train=X_train.reshape(-1,6)\n",
    "X_test = X_test.reshape(-1,6)\n",
    "X_train.shape"
   ]
  },
  {
   "cell_type": "code",
   "execution_count": 148,
   "metadata": {},
   "outputs": [
    {
     "data": {
      "text/plain": [
       "'\"\\nplt.scatter(X_train ,Y_train, color = \\'red\\')\\nplt.plot(Y_predict,linearRegression.predict(X_test), color = \\'blue\\')\\nplt.title(\\'House price vs features (Training set)\\')\\nplt.show\\n\\n***Multidimentional data require principle componet analysis(PCA)***\\n\\n'"
      ]
     },
     "execution_count": 148,
     "metadata": {},
     "output_type": "execute_result"
    }
   ],
   "source": [
    "linearRegression = LinearRegression()\n",
    "linearRegression.fit(X_train,Y_train)\n",
    "\n",
    "Y_predict=linearRegression.predict(X_test)\n",
    "#print(linearRegression.score())\n",
    "\n",
    "\"\"\"\"\n",
    "plt.scatter(X_train ,Y_train, color = 'red')\n",
    "plt.plot(Y_predict,linearRegression.predict(X_test), color = 'blue')\n",
    "plt.title('House price vs features (Training set)')\n",
    "plt.show\n",
    "\n",
    "***Multidimentional data require principle componet analysis(PCA)***\n",
    "\n",
    "\"\"\"\n"
   ]
  },
  {
   "cell_type": "code",
   "execution_count": 149,
   "metadata": {},
   "outputs": [
    {
     "name": "stdout",
     "output_type": "stream",
     "text": [
      "Linear regression co-efficiants\n"
     ]
    },
    {
     "data": {
      "text/plain": [
       "array([ 0.02636142,  1.72964473,  7.55894222, -0.03042297,  0.01365961,\n",
       "       -0.0161509 ])"
      ]
     },
     "execution_count": 149,
     "metadata": {},
     "output_type": "execute_result"
    }
   ],
   "source": [
    "# error calculation over the entire data sets \n",
    "Y_predict1 = linearRegression.predict(X)\n",
    "\n",
    "np.sum(np.absolute(Y - Y_predict1))*100/np.sum(Y_predict1)\n",
    "\n",
    "# error calculation on test set\n",
    "np.sum(np.absolute(Y_test - Y_predict))*100/np.sum(Y_predict)\n",
    "\n",
    "print('Linear regression co-efficiants')\n",
    "linearRegression.coef_"
   ]
  }
 ],
 "metadata": {
  "kernelspec": {
   "display_name": "Python 3",
   "language": "python",
   "name": "python3"
  },
  "language_info": {
   "codemirror_mode": {
    "name": "ipython",
    "version": 3
   },
   "file_extension": ".py",
   "mimetype": "text/x-python",
   "name": "python",
   "nbconvert_exporter": "python",
   "pygments_lexer": "ipython3",
   "version": "3.6.4"
  }
 },
 "nbformat": 4,
 "nbformat_minor": 2
}
